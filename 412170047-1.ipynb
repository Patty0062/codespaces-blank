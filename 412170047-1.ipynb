{
 "cells": [
  {
   "cell_type": "code",
   "execution_count": 12,
   "metadata": {},
   "outputs": [
    {
     "name": "stdout",
     "output_type": "stream",
     "text": [
      "單利:1000元40年的利率和=      5000.0元\n",
      "複利:1000元40年的利率和=     45259.3元\n"
     ]
    }
   ],
   "source": [
    "money = int(input('請輸入存款金額:')) #money\n",
    "rate = float(input('請輸入年利率:')) #rate\n",
    "year = int(input('請輸入存款年數:')) #year\n",
    "print(f'單利:{money}元{year}年的利率和={money+money*(rate/100)*year:12}元')\n",
    "print(f'複利:{money}元{year}年的利率和={money*(1+rate/100)**year:12.1f}元')\n"
   ]
  }
 ],
 "metadata": {
  "kernelspec": {
   "display_name": "Python 3",
   "language": "python",
   "name": "python3"
  },
  "language_info": {
   "codemirror_mode": {
    "name": "ipython",
    "version": 3
   },
   "file_extension": ".py",
   "mimetype": "text/x-python",
   "name": "python",
   "nbconvert_exporter": "python",
   "pygments_lexer": "ipython3",
   "version": "3.10.8"
  },
  "orig_nbformat": 4
 },
 "nbformat": 4,
 "nbformat_minor": 2
}
