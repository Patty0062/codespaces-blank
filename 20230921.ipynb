{
 "cells": [
  {
   "cell_type": "markdown",
   "metadata": {},
   "source": [
    "資料型別轉換\n",
    "type() 知道那種資料型別\n",
    "Python:Data Science 資料科學、Artifical\n",
    "每一種程式語言都有自己的用途:C+Assembly Language、JavaScript網站元件、區塊鍊Block Chain:Solidity\n",
    "in、not in\n",
    "Slice Operator\n",
    "語法 input(字串型別)\n",
    "搭配資料型別轉換:使用int()、float()、evail()數字字串轉換成數字\n",
    "格式化輸出 f-string"
   ]
  },
  {
   "cell_type": "code",
   "execution_count": 8,
   "metadata": {},
   "outputs": [
    {
     "name": "stdout",
     "output_type": "stream",
     "text": [
      "在哪裏, 我是誰123\n"
     ]
    }
   ],
   "source": [
    "s1 = '我是誰'\n",
    "s2 = '123'\n",
    "s1=s1+s2\n",
    "print('在哪裏,'s1)"
   ]
  },
  {
   "cell_type": "code",
   "execution_count": 3,
   "metadata": {},
   "outputs": [
    {
     "name": "stdout",
     "output_type": "stream",
     "text": [
      "汽水24元\n"
     ]
    }
   ],
   "source": [
    "# s = '汽水' + str(24)+'元'\n",
    "s = '汽水' + str(24)+'元'\n",
    "print(s)"
   ]
  },
  {
   "cell_type": "code",
   "execution_count": 9,
   "metadata": {},
   "outputs": [
    {
     "name": "stdout",
     "output_type": "stream",
     "text": [
      "------------------------------------\n"
     ]
    }
   ],
   "source": [
    "s ='-'\n",
    "print(s*36)"
   ]
  },
  {
   "cell_type": "code",
   "execution_count": 3,
   "metadata": {},
   "outputs": [
    {
     "name": "stdout",
     "output_type": "stream",
     "text": [
      "<class 'bool'>\n"
     ]
    },
    {
     "data": {
      "text/plain": [
       "False"
      ]
     },
     "execution_count": 3,
     "metadata": {},
     "output_type": "execute_result"
    }
   ],
   "source": [
    "Ok = 'input_word' in 'n'\n",
    "print (type(Ok))\n",
    "Ok"
   ]
  },
  {
   "cell_type": "code",
   "execution_count": 4,
   "metadata": {},
   "outputs": [
    {
     "name": "stdout",
     "output_type": "stream",
     "text": [
      "<class 'bool'>\n"
     ]
    },
    {
     "data": {
      "text/plain": [
       "True"
      ]
     },
     "execution_count": 4,
     "metadata": {},
     "output_type": "execute_result"
    }
   ],
   "source": [
    "Ok = 'n' in 'Pin' #大小寫有差\n",
    "print (type(Ok))\n",
    "Ok"
   ]
  },
  {
   "cell_type": "code",
   "execution_count": 9,
   "metadata": {},
   "outputs": [
    {
     "name": "stdout",
     "output_type": "stream",
     "text": [
      "h\n",
      "修\n",
      "基礎必修課\n",
      "Python\n",
      "n 基\n"
     ]
    }
   ],
   "source": [
    "s = 'Python 基礎必修課'\n",
    "print (s[3])\n",
    "print (s[-2])\n",
    "# print (s[12])\n",
    "print(s[7:])# 從index 7開始到結尾\n",
    "print(s[:6])# 從index 0到5\n",
    "print(s[5:8]) #從5到7\n",
    "\n"
   ]
  },
  {
   "cell_type": "code",
   "execution_count": 12,
   "metadata": {},
   "outputs": [
    {
     "name": "stdout",
     "output_type": "stream",
     "text": [
      "25\n",
      "x+y = 25\n",
      "x+y = x+y\n",
      "x+y =10+15 = 25\n"
     ]
    }
   ],
   "source": [
    "x,y = 10,15\n",
    "#輸出 x+y\n",
    "print(x+y)\n",
    "print('x+y =', x+y)\n",
    "#美觀\n",
    "print('x+y = x+y')\n",
    "print(f'x+y ={x}+{y} = {x+y}')"
   ]
  },
  {
   "cell_type": "code",
   "execution_count": 36,
   "metadata": {},
   "outputs": [
    {
     "name": "stdout",
     "output_type": "stream",
     "text": [
      "10,000元年利率0.85%\n",
      "3年本利和為010,255.0元\n"
     ]
    }
   ],
   "source": [
    "# 現實問題:情境資訊=>數學模型\n",
    "# 輸出頁面:input()、print()、格式化\n",
    "x = int(input('請輸入存款金額:')) #引進會變的數叫變數x money \n",
    "# print(x) #print(type(x)) #x的資料型別是字串 #如何將字串轉為數字 系統面向上看log #print(type(x))\n",
    "y = float(input('請輸入年利率:')) #rate\n",
    "z = int(input('請輸入年數:')) #year\n",
    "# print(type(x))\n",
    "print(f'{x:,}元年利率{y:.2f}%')\n",
    "print(f'{z}年本利和為{x+x*(y/100)*z:09,}元')\n",
    "\n"
   ]
  }
 ],
 "metadata": {
  "kernelspec": {
   "display_name": "Python 3",
   "language": "python",
   "name": "python3"
  },
  "language_info": {
   "codemirror_mode": {
    "name": "ipython",
    "version": 3
   },
   "file_extension": ".py",
   "mimetype": "text/x-python",
   "name": "python",
   "nbconvert_exporter": "python",
   "pygments_lexer": "ipython3",
   "version": "3.10.8"
  },
  "orig_nbformat": 4
 },
 "nbformat": 4,
 "nbformat_minor": 2
}
